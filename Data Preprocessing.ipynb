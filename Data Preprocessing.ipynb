{
  "nbformat": 4,
  "nbformat_minor": 0,
  "metadata": {
    "colab": {
      "provenance": []
    },
    "kernelspec": {
      "name": "python3",
      "display_name": "Python 3"
    },
    "language_info": {
      "name": "python"
    }
  },
  "cells": [
    {
      "cell_type": "code",
      "execution_count": null,
      "metadata": {
        "colab": {
          "base_uri": "https://localhost:8080/"
        },
        "id": "k_-aVwOsW2Y4",
        "outputId": "5ad85dc2-133e-43b3-e1a6-8054bef4a45e"
      },
      "outputs": [
        {
          "output_type": "stream",
          "name": "stdout",
          "text": [
            "Mounted at /content/drive\n"
          ]
        }
      ],
      "source": [
        "from google.colab import drive\n",
        "drive.mount('/content/drive')"
      ]
    },
    {
      "cell_type": "code",
      "source": [
        "!pip install openai==0.28"
      ],
      "metadata": {
        "colab": {
          "base_uri": "https://localhost:8080/"
        },
        "collapsed": true,
        "id": "XqjpPOxEW6Vn",
        "outputId": "9b8809aa-c348-4757-e8e9-5f36ae74a108"
      },
      "execution_count": null,
      "outputs": [
        {
          "output_type": "stream",
          "name": "stdout",
          "text": [
            "Collecting openai==0.28\n",
            "  Downloading openai-0.28.0-py3-none-any.whl.metadata (13 kB)\n",
            "Requirement already satisfied: requests>=2.20 in /usr/local/lib/python3.11/dist-packages (from openai==0.28) (2.32.3)\n",
            "Requirement already satisfied: tqdm in /usr/local/lib/python3.11/dist-packages (from openai==0.28) (4.67.1)\n",
            "Requirement already satisfied: aiohttp in /usr/local/lib/python3.11/dist-packages (from openai==0.28) (3.11.15)\n",
            "Requirement already satisfied: charset-normalizer<4,>=2 in /usr/local/lib/python3.11/dist-packages (from requests>=2.20->openai==0.28) (3.4.1)\n",
            "Requirement already satisfied: idna<4,>=2.5 in /usr/local/lib/python3.11/dist-packages (from requests>=2.20->openai==0.28) (3.10)\n",
            "Requirement already satisfied: urllib3<3,>=1.21.1 in /usr/local/lib/python3.11/dist-packages (from requests>=2.20->openai==0.28) (2.4.0)\n",
            "Requirement already satisfied: certifi>=2017.4.17 in /usr/local/lib/python3.11/dist-packages (from requests>=2.20->openai==0.28) (2025.1.31)\n",
            "Requirement already satisfied: aiohappyeyeballs>=2.3.0 in /usr/local/lib/python3.11/dist-packages (from aiohttp->openai==0.28) (2.6.1)\n",
            "Requirement already satisfied: aiosignal>=1.1.2 in /usr/local/lib/python3.11/dist-packages (from aiohttp->openai==0.28) (1.3.2)\n",
            "Requirement already satisfied: attrs>=17.3.0 in /usr/local/lib/python3.11/dist-packages (from aiohttp->openai==0.28) (25.3.0)\n",
            "Requirement already satisfied: frozenlist>=1.1.1 in /usr/local/lib/python3.11/dist-packages (from aiohttp->openai==0.28) (1.6.0)\n",
            "Requirement already satisfied: multidict<7.0,>=4.5 in /usr/local/lib/python3.11/dist-packages (from aiohttp->openai==0.28) (6.4.3)\n",
            "Requirement already satisfied: propcache>=0.2.0 in /usr/local/lib/python3.11/dist-packages (from aiohttp->openai==0.28) (0.3.1)\n",
            "Requirement already satisfied: yarl<2.0,>=1.17.0 in /usr/local/lib/python3.11/dist-packages (from aiohttp->openai==0.28) (1.20.0)\n",
            "Downloading openai-0.28.0-py3-none-any.whl (76 kB)\n",
            "\u001b[?25l   \u001b[90m━━━━━━━━━━━━━━━━━━━━━━━━━━━━━━━━━━━━━━━━\u001b[0m \u001b[32m0.0/76.5 kB\u001b[0m \u001b[31m?\u001b[0m eta \u001b[36m-:--:--\u001b[0m\r\u001b[2K   \u001b[90m━━━━━━━━━━━━━━━━━━━━━━━━━━━━━━━━━━━━━━━━\u001b[0m \u001b[32m76.5/76.5 kB\u001b[0m \u001b[31m6.2 MB/s\u001b[0m eta \u001b[36m0:00:00\u001b[0m\n",
            "\u001b[?25hInstalling collected packages: openai\n",
            "  Attempting uninstall: openai\n",
            "    Found existing installation: openai 1.76.0\n",
            "    Uninstalling openai-1.76.0:\n",
            "      Successfully uninstalled openai-1.76.0\n",
            "Successfully installed openai-0.28.0\n"
          ]
        }
      ]
    },
    {
      "cell_type": "code",
      "source": [
        "import pandas as pd\n",
        "import openai\n",
        "\n",
        "# Set your OpenAI API key\n",
        "openai.api_key = \"----\""
      ],
      "metadata": {
        "id": "wM6rHsuBXPl7"
      },
      "execution_count": null,
      "outputs": []
    },
    {
      "cell_type": "code",
      "source": [
        "# Load your original posts\n",
        "df = pd.read_csv('/content/drive/MyDrive/Project Tesla/tesla_solar_reddit_posts_2025.csv')\n",
        "\n",
        "# Fill missing title/text safely\n",
        "df['title'] = df['title'].fillna('')\n",
        "df['text'] = df['text'].fillna('')\n",
        "\n",
        "# Combine title and text into one field for analysis\n",
        "df['content'] = df['title'] + ' ' + df['text']\n",
        "\n",
        "# Remove very short posts\n",
        "df = df[df['content'].str.len() > 10]\n",
        "\n",
        "# Reset index\n",
        "df = df.reset_index(drop=True)\n",
        "\n",
        "print(f\"Total posts after cleaning: {len(df)}\")"
      ],
      "metadata": {
        "colab": {
          "base_uri": "https://localhost:8080/"
        },
        "id": "_egeB0J-Xb_V",
        "outputId": "4c494194-7a1f-45ba-ab5c-b061d7bf69b3"
      },
      "execution_count": null,
      "outputs": [
        {
          "output_type": "stream",
          "name": "stdout",
          "text": [
            "Total posts after cleaning: 557\n"
          ]
        }
      ]
    },
    {
      "cell_type": "code",
      "source": [
        "# Summarization function\n",
        "def summarize_post(post_text):\n",
        "    prompt = f\"Summarize the following Reddit post into 1-2 sentences, highlighting the main issue or event:\\n\\n{post_text}\"\n",
        "    response = openai.ChatCompletion.create(\n",
        "        model=\"gpt-3.5-turbo\",\n",
        "        messages=[\n",
        "            {\"role\": \"system\", \"content\": \"You are a helpful summarizer.\"},\n",
        "            {\"role\": \"user\", \"content\": prompt}\n",
        "        ],\n",
        "        temperature=0.3,\n",
        "        max_tokens=60\n",
        "    )\n",
        "    return response['choices'][0]['message']['content'].strip()\n",
        "\n",
        "# Create summary column only if it doesn't exist yet\n",
        "if 'summary' not in df.columns:\n",
        "    df['summary'] = df['content'].apply(summarize_post)"
      ],
      "metadata": {
        "id": "g7gjqrC4wahj"
      },
      "execution_count": null,
      "outputs": []
    },
    {
      "cell_type": "code",
      "source": [
        "def create_prompt(existing_labels, post_text, similarity_threshold=70):\n",
        "    if not existing_labels:\n",
        "        return f\"\"\"\n",
        "You are a smart assistant for categorizing Reddit posts related to Tesla Solar products.\n",
        "\n",
        "Task:\n",
        "- Suggest a new topic label for the following post.\n",
        "- The label must be specific, informative, and actionable.\n",
        "- It should clearly summarize the main issue or event in 3 to 7 words.\n",
        "- Avoid generic labels like \"Solar Discussion\" or \"Update.\"\n",
        "- Focus on the real problem, experience, or event being discussed.\n",
        "\n",
        "Post:\n",
        "\"{post_text}\"\n",
        "\n",
        "Respond ONLY in the format:\n",
        "New Label: <your label>\n",
        "\"\"\"\n",
        "\n",
        "    label_list = '\\n'.join([f\"- {label}: {desc}\" for label, desc in existing_labels.items()])\n",
        "\n",
        "    return f\"\"\"\n",
        "You are a smart assistant for categorizing Reddit posts related to Tesla Solar products.\n",
        "\n",
        "Existing Labels:\n",
        "{label_list}\n",
        "\n",
        "New Post:\n",
        "\"{post_text}\"\n",
        "\n",
        "Task:\n",
        "- If any existing label matches the post meaning with ≥ {similarity_threshold}% similarity, pick that label.\n",
        "- If no existing label matches well enough, suggest a new label.\n",
        "- The label must be specific, informative, and actionable.\n",
        "- It should clearly summarize the main issue or event in 3 to 7 words.\n",
        "- Avoid vague labels like \"Feedback\" or \"Update.\"\n",
        "- Focus on the real problem, experience, or event being discussed.\n",
        "\n",
        "Respond ONLY in the format:\n",
        "Existing Label: <label name>\n",
        "or\n",
        "New Label: <your new label suggestion>\n",
        "\"\"\""
      ],
      "metadata": {
        "id": "p2fkq1iGXfVI"
      },
      "execution_count": null,
      "outputs": []
    },
    {
      "cell_type": "code",
      "source": [
        "# Send prompt to GPT and get clean answer\n",
        "def ask_llm(prompt):\n",
        "    response = openai.ChatCompletion.create(\n",
        "        model=\"gpt-3.5-turbo\",\n",
        "        messages=[\n",
        "            {\"role\": \"system\", \"content\": \"You are a helpful assistant.\"},\n",
        "            {\"role\": \"user\", \"content\": prompt}\n",
        "        ],\n",
        "        temperature=0.3,\n",
        "        max_tokens=50  # short focused output\n",
        "    )\n",
        "    return response['choices'][0]['message']['content'].strip()"
      ],
      "metadata": {
        "id": "2hqqX2dQXhg5"
      },
      "execution_count": null,
      "outputs": []
    },
    {
      "cell_type": "code",
      "source": [
        "# Initialize\n",
        "labels = {}  # Store existing labels\n",
        "assigned_labels = []  # Store assigned label for each post\n",
        "\n",
        "# Loop through posts\n",
        "for idx, post_text in enumerate(df['content']):\n",
        "    prompt = create_prompt(labels, post_text)\n",
        "    response = ask_llm(prompt)\n",
        "\n",
        "    if response.startswith(\"Existing Label:\"):\n",
        "        label_name = response.replace(\"Existing Label:\", \"\").strip()\n",
        "    elif response.startswith(\"New Label:\"):\n",
        "        label_name = response.replace(\"New Label:\", \"\").strip()\n",
        "        labels[label_name] = post_text  # Save first example post as description\n",
        "    else:\n",
        "        label_name = f\"Label_{idx}\"\n",
        "        labels[label_name] = post_text\n",
        "\n",
        "    assigned_labels.append(label_name)\n",
        "\n",
        "# Add labels to DataFrame\n",
        "df['category'] = assigned_labels\n",
        "\n",
        "print(\"Posts have been labeled!\")\n"
      ],
      "metadata": {
        "colab": {
          "base_uri": "https://localhost:8080/"
        },
        "id": "_waK_GNuXlK_",
        "outputId": "e0c89120-329c-4b2c-c72e-f341cabb8bf8"
      },
      "execution_count": null,
      "outputs": [
        {
          "output_type": "stream",
          "name": "stdout",
          "text": [
            "Posts have been labeled!\n"
          ]
        }
      ]
    },
    {
      "cell_type": "code",
      "source": [
        "# Save labeled posts to new CSV\n",
        "df.to_csv('/content/drive/MyDrive/Project Tesla/tesla_solar_reddit_posts_labeled_2025.csv', index=False)\n",
        "\n",
        "print(\"Final CSV saved with 'category' column!\")\n"
      ],
      "metadata": {
        "colab": {
          "base_uri": "https://localhost:8080/"
        },
        "id": "QbxukO-3Xq2x",
        "outputId": "721582f2-3c4e-4cc3-ff75-5eb3423aed51"
      },
      "execution_count": null,
      "outputs": [
        {
          "output_type": "stream",
          "name": "stdout",
          "text": [
            "Final CSV saved with 'category' column!\n"
          ]
        }
      ]
    },
    {
      "cell_type": "code",
      "source": [
        "label_grouping = {\n",
        "    # Installation Experience and Issues\n",
        "    \"Tesla Solar System Installation Experience\": \"Installation Experience and Issues\",\n",
        "    \"Tesla Solar Panel Installation Challenges\": \"Installation Experience and Issues\",\n",
        "    \"Tesla Solar Panel Installation Inquiry\": \"Installation Experience and Issues\",\n",
        "    \"Tesla Solar Panel Installation Satisfaction\": \"Installation Experience and Issues\",\n",
        "    \"Solar Roof Installation Inquiry\": \"Installation Experience and Issues\",\n",
        "    \"Solar System Installation Documentation Requirement\": \"Installation Experience and Issues\",\n",
        "    \"Tesla Solar Panel Installation Documentation Requirement\": \"Installation Experience and Issues\",\n",
        "    \"Solar Panel Installation Decision Inquiry\": \"Installation Experience and Issues\",\n",
        "    \"Solar Panel Installation Constraint: CalPac Roof Issue\": \"Installation Experience and Issues\",\n",
        "\n",
        "    # System Performance Problems\n",
        "    \"Tesla Solar System Performance Issues\": \"System Performance Problems\",\n",
        "    \"Tesla Solar System Performance Concerns\": \"System Performance Problems\",\n",
        "    \"Solar Panel Performance Anomaly\": \"System Performance Problems\",\n",
        "    \"Solar Panel Production Anomaly\": \"System Performance Problems\",\n",
        "    \"Solar Panel Performance Concern\": \"System Performance Problems\",\n",
        "    \"Tesla Solar Panel Performance Concern\": \"System Performance Problems\",\n",
        "    \"Solar Panel Production Interruption\": \"System Performance Problems\",\n",
        "    \"Tesla Solar Panel Production Interruption\": \"System Performance Problems\",\n",
        "    \"Solar Panel Production Optimization\": \"System Performance Problems\",\n",
        "    \"Tesla Solar Panel Production Optimization\": \"System Performance Problems\",\n",
        "    \"Solar Panel Shade Issue\": \"System Performance Problems\",\n",
        "    \"Tesla Solar Panel Snow Accumulation Issue\": \"System Performance Problems\",\n",
        "    \"Solar Panel Data Display Issue\": \"System Performance Problems\",\n",
        "    \"Tesla Solar Panel Data Display Issue\": \"System Performance Problems\",\n",
        "\n",
        "    # Powerwall Topics\n",
        "    \"Powerwall Delay Frustration\": \"Powerwall Topics\",\n",
        "    \"Powerwall Charging Optimization Strategy\": \"Powerwall Topics\",\n",
        "    \"Powerwall Charging Strategy Optimization\": \"Powerwall Topics\",\n",
        "    \"Powerwall Dependency Concern\": \"Powerwall Topics\",\n",
        "    \"Powerwall Pricing Discrepancy\": \"Powerwall Topics\",\n",
        "    \"Powerwall Alternative Inquiry\": \"Powerwall Topics\",\n",
        "    \"Powerwall Installation Configuration Inquiry\": \"Powerwall Topics\",\n",
        "    \"Powerwall 3 Configuration Inquiry\": \"Powerwall Topics\",\n",
        "    \"Powerwall 3 String Configuration Inquiry\": \"Powerwall Topics\",\n",
        "    \"Powerwall Expansion Inquiry\": \"Powerwall Topics\",\n",
        "    \"Powerwall Expansion Pack Availability\": \"Powerwall Topics\",\n",
        "    \"Powerwall Installation Code Violation\": \"Powerwall Topics\",\n",
        "    \"Powerwall Charging Issue\": \"Powerwall Topics\",\n",
        "\n",
        "    # Cost & Pricing Issues\n",
        "    \"Tesla Powerwall Pricing Discrepancy\": \"Cost & Pricing Issues\",\n",
        "    \"Tesla Solar Panel Lease Battery Compatibility\": \"Cost & Pricing Issues\",\n",
        "    \"Solar System Cost Analysis\": \"Cost & Pricing Issues\",\n",
        "    \"Solar Panel Quote\": \"Cost & Pricing Issues\",\n",
        "\n",
        "    # Tesla Electric Plans\n",
        "    \"Tesla Electric Plan Review\": \"Tesla Electric Plans\",\n",
        "    \"Tesla Electric Plan Comparison\": \"Tesla Electric Plans\",\n",
        "\n",
        "    # Solar Panel Damage or Maintenance\n",
        "    \"Tesla Panel Hail Damage Concerns\": \"Solar Panel Damage or Maintenance\",\n",
        "    \"Solar Panel Damage Inquiry\": \"Solar Panel Damage or Maintenance\",\n",
        "    \"Solar Panel Post-Storm Troubleshooting\": \"Solar Panel Damage or Maintenance\",\n",
        "    \"Solar Panel Maintenance Inquiry\": \"Solar Panel Damage or Maintenance\",\n",
        "    \"Tesla Solar Panel Pest Abatement\": \"Solar Panel Damage or Maintenance\",\n",
        "    \"Tesla Solar Panel Troubleshooting\": \"Solar Panel Damage or Maintenance\",\n",
        "\n",
        "    # Customer Support and Satisfaction\n",
        "    \"Tesla Solar Customer Service Experience\": \"Customer Support and Satisfaction\",\n",
        "    \"Customer Satisfaction Inquiry\": \"Customer Support and Satisfaction\",\n",
        "    \"Duplicate Powerwall Installation Email\": \"Customer Support and Satisfaction\",\n",
        "\n",
        "    # Solar Energy Sharing/Innovation\n",
        "    \"Solar Energy Sharing Marketplace Concept\": \"Solar Energy Sharing/Innovation\",\n",
        "    \"Solar Energy Sharing App Concept\": \"Solar Energy Sharing/Innovation\",\n",
        "    \"Solar and Starlink Connectivity Success\": \"Solar Energy Sharing/Innovation\",\n",
        "    \"Tesla Model Y Sister Acquisition\": \"Solar Energy Sharing/Innovation\",\n",
        "\n",
        "    # Design Consultation and Data Display\n",
        "    \"Solar System Design Consultation Inquiry\": \"Design Consultation and Data Display\",\n",
        "    \"Solar Panel Design Discrepancy\": \"Design Consultation and Data Display\",\n",
        "    \"Tesla Solar Panel Design Discrepancy\": \"Design Consultation and Data Display\",\n",
        "    \"Solar Panel Data Reporting Inquiry\": \"Design Consultation and Data Display\",\n",
        "\n",
        "    # Tax and Insurance Concerns\n",
        "    \"Solar Panel Tax Credit Discrepancy\": \"Tax and Insurance Concerns\",\n",
        "    \"Homeowners Insurance for Solar Roof\": \"Tax and Insurance Concerns\"\n",
        "}\n",
        "\n",
        "df['dashboard_category'] = df['category'].map(label_grouping).fillna(df['category'])"
      ],
      "metadata": {
        "id": "4a0DRXjeX5Ap"
      },
      "execution_count": null,
      "outputs": []
    },
    {
      "cell_type": "code",
      "source": [
        "# Save labeled posts to new CSV\n",
        "df.to_csv('/content/drive/MyDrive/Project Tesla/tesla_solar_reddit_posts_GroupLabeled_2025.csv', index=False)\n",
        "\n",
        "print(\"Final CSV saved with 'category' column!\")"
      ],
      "metadata": {
        "colab": {
          "base_uri": "https://localhost:8080/"
        },
        "id": "kzrJUCGmakbU",
        "outputId": "b2512727-579d-4776-8b05-6e2c13a30cb5"
      },
      "execution_count": null,
      "outputs": [
        {
          "output_type": "stream",
          "name": "stdout",
          "text": [
            "Final CSV saved with 'category' column!\n"
          ]
        }
      ]
    },
    {
      "cell_type": "code",
      "source": [],
      "metadata": {
        "id": "jcV8wclabeFB"
      },
      "execution_count": null,
      "outputs": []
    }
  ]
}