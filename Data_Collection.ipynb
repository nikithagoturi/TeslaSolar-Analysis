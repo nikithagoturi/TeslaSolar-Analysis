{
  "nbformat": 4,
  "nbformat_minor": 0,
  "metadata": {
    "colab": {
      "provenance": []
    },
    "kernelspec": {
      "name": "python3",
      "display_name": "Python 3"
    },
    "language_info": {
      "name": "python"
    }
  },
  "cells": [
    {
      "cell_type": "code",
      "execution_count": null,
      "metadata": {
        "colab": {
          "base_uri": "https://localhost:8080/"
        },
        "collapsed": true,
        "id": "9o-_h-2-Dw-T",
        "outputId": "06c443cf-e6ae-42f2-f8c2-2278f144c105"
      },
      "outputs": [
        {
          "output_type": "stream",
          "name": "stdout",
          "text": [
            "Collecting psaw\n",
            "  Downloading psaw-0.1.0-py3-none-any.whl.metadata (10 kB)\n",
            "Collecting praw\n",
            "  Downloading praw-7.8.1-py3-none-any.whl.metadata (9.4 kB)\n",
            "Requirement already satisfied: requests in /usr/local/lib/python3.11/dist-packages (from psaw) (2.32.3)\n",
            "Requirement already satisfied: Click in /usr/local/lib/python3.11/dist-packages (from psaw) (8.1.8)\n",
            "Collecting prawcore<3,>=2.4 (from praw)\n",
            "  Downloading prawcore-2.4.0-py3-none-any.whl.metadata (5.0 kB)\n",
            "Collecting update_checker>=0.18 (from praw)\n",
            "  Downloading update_checker-0.18.0-py3-none-any.whl.metadata (2.3 kB)\n",
            "Requirement already satisfied: websocket-client>=0.54.0 in /usr/local/lib/python3.11/dist-packages (from praw) (1.8.0)\n",
            "Requirement already satisfied: charset-normalizer<4,>=2 in /usr/local/lib/python3.11/dist-packages (from requests->psaw) (3.4.1)\n",
            "Requirement already satisfied: idna<4,>=2.5 in /usr/local/lib/python3.11/dist-packages (from requests->psaw) (3.10)\n",
            "Requirement already satisfied: urllib3<3,>=1.21.1 in /usr/local/lib/python3.11/dist-packages (from requests->psaw) (2.4.0)\n",
            "Requirement already satisfied: certifi>=2017.4.17 in /usr/local/lib/python3.11/dist-packages (from requests->psaw) (2025.1.31)\n",
            "Downloading psaw-0.1.0-py3-none-any.whl (15 kB)\n",
            "Downloading praw-7.8.1-py3-none-any.whl (189 kB)\n",
            "\u001b[2K   \u001b[90m━━━━━━━━━━━━━━━━━━━━━━━━━━━━━━━━━━━━━━━━\u001b[0m \u001b[32m189.3/189.3 kB\u001b[0m \u001b[31m14.2 MB/s\u001b[0m eta \u001b[36m0:00:00\u001b[0m\n",
            "\u001b[?25hDownloading prawcore-2.4.0-py3-none-any.whl (17 kB)\n",
            "Downloading update_checker-0.18.0-py3-none-any.whl (7.0 kB)\n",
            "Installing collected packages: update_checker, psaw, prawcore, praw\n",
            "Successfully installed praw-7.8.1 prawcore-2.4.0 psaw-0.1.0 update_checker-0.18.0\n"
          ]
        }
      ],
      "source": [
        "!pip install psaw praw"
      ]
    },
    {
      "cell_type": "code",
      "source": [
        "from google.colab import drive\n",
        "drive.mount('/content/drive')"
      ],
      "metadata": {
        "colab": {
          "base_uri": "https://localhost:8080/"
        },
        "id": "TRb2uDfcEQSN",
        "outputId": "757b0ea2-8468-4505-c8eb-dac3c0d6f965"
      },
      "execution_count": null,
      "outputs": [
        {
          "output_type": "stream",
          "name": "stdout",
          "text": [
            "Mounted at /content/drive\n"
          ]
        }
      ]
    },
    {
      "cell_type": "code",
      "source": [
        "import praw\n",
        "import pandas as pd\n",
        "import time\n",
        "from datetime import datetime"
      ],
      "metadata": {
        "id": "u-RjZywaD0p4"
      },
      "execution_count": null,
      "outputs": []
    },
    {
      "cell_type": "code",
      "source": [
        "try:\n",
        "    # Configure the Reddit instance\n",
        "    reddit = praw.Reddit(\n",
        "        client_id=\"YOUR CLIENT ID\",\n",
        "        client_secret=\"CLIENT SECRET CODE\",\n",
        "        user_agent=\"USER NAME\",\n",
        "        redirect_uri=\"URL\"\n",
        "    )\n",
        "\n",
        "    reddit.read_only = True\n",
        "    print(\"Connected to Reddit API in read-only mode\")\n",
        "\n",
        "    # Define subreddit and time range\n",
        "    subreddit = reddit.subreddit(\"TeslaSolar\")\n",
        "    print(f\"Accessing r/{subreddit.display_name}\")\n",
        "\n",
        "    start_time = int(datetime(2025, 1, 1).timestamp())  # Start of 2025\n",
        "    end_time = int(datetime.now().timestamp())          # Current time\n",
        "\n",
        "    print(f\"Retrieving posts from {datetime.fromtimestamp(start_time)} to {datetime.fromtimestamp(end_time)}...\")\n",
        "    posts = []\n",
        "    collected_ids = set()\n",
        "    count = 0\n",
        "\n",
        "    # Fetch posts from newest\n",
        "    for post in subreddit.new(limit=None):\n",
        "        if post.id in collected_ids:\n",
        "            continue  # Skip duplicates\n",
        "\n",
        "        if post.created_utc < start_time:\n",
        "            print(\"Reached posts before 2025, stopping...\")\n",
        "            break\n",
        "\n",
        "        if start_time <= post.created_utc <= end_time:\n",
        "            collected_ids.add(post.id)\n",
        "            readable_date = datetime.fromtimestamp(post.created_utc).strftime('%Y-%m-%d %H:%M:%S')\n",
        "\n",
        "            posts.append({\n",
        "                'id': post.id,\n",
        "                'date': readable_date,\n",
        "                'unix_timestamp': post.created_utc,\n",
        "                'title': post.title,\n",
        "                'text': post.selftext,\n",
        "                'score': post.score,\n",
        "                'url': post.url\n",
        "            })\n",
        "\n",
        "            count += 1\n",
        "            if count % 10 == 0:\n",
        "                print(f\"Collected {count} posts so far...\")\n",
        "\n",
        "            time.sleep(1)  # Be gentle with Reddit API (you can adjust if needed)\n",
        "\n",
        "    # Create DataFrame and save to CSV\n",
        "    if posts:\n",
        "        df = pd.DataFrame(posts)\n",
        "        df = df.sort_values(by=\"unix_timestamp\", ascending=True)  # Sort by time if you want\n",
        "        df.to_csv('/content/drive/MyDrive/Project Tesla/tesla_solar_reddit_posts_2025.csv', index=False)\n",
        "        print(f\"Successfully saved {len(posts)} posts to CSV file.\")\n",
        "    else:\n",
        "        print(\"No posts were retrieved.\")\n",
        "\n",
        "except Exception as e:\n",
        "    print(f\"Error occurred: {type(e).__name__}: {e}\")"
      ],
      "metadata": {
        "colab": {
          "base_uri": "https://localhost:8080/"
        },
        "id": "tugbyVFQEKK7",
        "outputId": "becb979e-207b-4523-c227-47f557f8324b"
      },
      "execution_count": null,
      "outputs": [
        {
          "output_type": "stream",
          "name": "stderr",
          "text": [
            "WARNING:praw:It appears that you are using PRAW in an asynchronous environment.\n",
            "It is strongly recommended to use Async PRAW: https://asyncpraw.readthedocs.io.\n",
            "See https://praw.readthedocs.io/en/latest/getting_started/multiple_instances.html#discord-bots-and-asynchronous-environments for more info.\n",
            "\n"
          ]
        },
        {
          "output_type": "stream",
          "name": "stdout",
          "text": [
            "Connected to Reddit API in read-only mode\n",
            "Accessing r/TeslaSolar\n",
            "Retrieving posts from 2025-01-01 00:00:00 to 2025-04-29 01:03:32...\n",
            "Collected 10 posts so far...\n",
            "Collected 20 posts so far...\n",
            "Collected 30 posts so far...\n",
            "Collected 40 posts so far...\n",
            "Collected 50 posts so far...\n",
            "Collected 60 posts so far...\n",
            "Collected 70 posts so far...\n",
            "Collected 80 posts so far...\n",
            "Collected 90 posts so far...\n",
            "Collected 100 posts so far...\n"
          ]
        },
        {
          "output_type": "stream",
          "name": "stderr",
          "text": [
            "WARNING:praw:It appears that you are using PRAW in an asynchronous environment.\n",
            "It is strongly recommended to use Async PRAW: https://asyncpraw.readthedocs.io.\n",
            "See https://praw.readthedocs.io/en/latest/getting_started/multiple_instances.html#discord-bots-and-asynchronous-environments for more info.\n",
            "\n",
            "WARNING:prawcore:Retrying due to ConnectionError(ProtocolError('Connection aborted.', RemoteDisconnected('Remote end closed connection without response'))) status: GET https://oauth.reddit.com/r/TeslaSolar/new\n"
          ]
        },
        {
          "output_type": "stream",
          "name": "stdout",
          "text": [
            "Collected 110 posts so far...\n",
            "Collected 120 posts so far...\n",
            "Collected 130 posts so far...\n",
            "Collected 140 posts so far...\n",
            "Collected 150 posts so far...\n",
            "Collected 160 posts so far...\n",
            "Collected 170 posts so far...\n",
            "Collected 180 posts so far...\n",
            "Collected 190 posts so far...\n",
            "Collected 200 posts so far...\n"
          ]
        },
        {
          "output_type": "stream",
          "name": "stderr",
          "text": [
            "WARNING:praw:It appears that you are using PRAW in an asynchronous environment.\n",
            "It is strongly recommended to use Async PRAW: https://asyncpraw.readthedocs.io.\n",
            "See https://praw.readthedocs.io/en/latest/getting_started/multiple_instances.html#discord-bots-and-asynchronous-environments for more info.\n",
            "\n"
          ]
        },
        {
          "output_type": "stream",
          "name": "stdout",
          "text": [
            "Collected 210 posts so far...\n",
            "Collected 220 posts so far...\n",
            "Collected 230 posts so far...\n",
            "Collected 240 posts so far...\n",
            "Collected 250 posts so far...\n",
            "Collected 260 posts so far...\n",
            "Collected 270 posts so far...\n",
            "Collected 280 posts so far...\n",
            "Collected 290 posts so far...\n",
            "Collected 300 posts so far...\n"
          ]
        },
        {
          "output_type": "stream",
          "name": "stderr",
          "text": [
            "WARNING:praw:It appears that you are using PRAW in an asynchronous environment.\n",
            "It is strongly recommended to use Async PRAW: https://asyncpraw.readthedocs.io.\n",
            "See https://praw.readthedocs.io/en/latest/getting_started/multiple_instances.html#discord-bots-and-asynchronous-environments for more info.\n",
            "\n",
            "WARNING:prawcore:Retrying due to ConnectionError(ProtocolError('Connection aborted.', RemoteDisconnected('Remote end closed connection without response'))) status: GET https://oauth.reddit.com/r/TeslaSolar/new\n"
          ]
        },
        {
          "output_type": "stream",
          "name": "stdout",
          "text": [
            "Collected 310 posts so far...\n",
            "Collected 320 posts so far...\n",
            "Collected 330 posts so far...\n",
            "Collected 340 posts so far...\n",
            "Collected 350 posts so far...\n",
            "Collected 360 posts so far...\n",
            "Collected 370 posts so far...\n",
            "Collected 380 posts so far...\n",
            "Collected 390 posts so far...\n",
            "Collected 400 posts so far...\n"
          ]
        },
        {
          "output_type": "stream",
          "name": "stderr",
          "text": [
            "WARNING:praw:It appears that you are using PRAW in an asynchronous environment.\n",
            "It is strongly recommended to use Async PRAW: https://asyncpraw.readthedocs.io.\n",
            "See https://praw.readthedocs.io/en/latest/getting_started/multiple_instances.html#discord-bots-and-asynchronous-environments for more info.\n",
            "\n"
          ]
        },
        {
          "output_type": "stream",
          "name": "stdout",
          "text": [
            "Collected 410 posts so far...\n",
            "Collected 420 posts so far...\n",
            "Collected 430 posts so far...\n",
            "Collected 440 posts so far...\n",
            "Collected 450 posts so far...\n",
            "Collected 460 posts so far...\n",
            "Collected 470 posts so far...\n",
            "Collected 480 posts so far...\n",
            "Collected 490 posts so far...\n",
            "Collected 500 posts so far...\n"
          ]
        },
        {
          "output_type": "stream",
          "name": "stderr",
          "text": [
            "WARNING:praw:It appears that you are using PRAW in an asynchronous environment.\n",
            "It is strongly recommended to use Async PRAW: https://asyncpraw.readthedocs.io.\n",
            "See https://praw.readthedocs.io/en/latest/getting_started/multiple_instances.html#discord-bots-and-asynchronous-environments for more info.\n",
            "\n"
          ]
        },
        {
          "output_type": "stream",
          "name": "stdout",
          "text": [
            "Collected 510 posts so far...\n",
            "Collected 520 posts so far...\n",
            "Collected 530 posts so far...\n",
            "Collected 540 posts so far...\n",
            "Collected 550 posts so far...\n",
            "Reached posts before 2025, stopping...\n",
            "Successfully saved 559 posts to CSV file.\n"
          ]
        }
      ]
    },
    {
      "cell_type": "code",
      "source": [],
      "metadata": {
        "id": "Zs4eqljMEg3r"
      },
      "execution_count": null,
      "outputs": []
    }
  ]
}